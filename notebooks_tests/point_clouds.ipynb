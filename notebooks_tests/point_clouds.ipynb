{
 "cells": [
  {
   "cell_type": "markdown",
   "id": "b4208ad1",
   "metadata": {},
   "source": [
    "<b> Testing Open3D for Depth rendering </b>"
   ]
  },
  {
   "cell_type": "code",
   "execution_count": null,
   "id": "7764ef39",
   "metadata": {},
   "outputs": [],
   "source": [
    "import open3d as o3d\n",
    "import cv2\n",
    "from PIL import Image\n",
    "import numpy as np\n",
    "import torch\n",
    "import os\n",
    "import matplotlib.pyplot as plt"
   ]
  },
  {
   "cell_type": "markdown",
   "id": "27023336",
   "metadata": {},
   "source": [
    "### <b> Point Cloud (.ply) to 2D top down image (.png) </b>"
   ]
  },
  {
   "cell_type": "code",
   "execution_count": null,
   "id": "827e173c",
   "metadata": {},
   "outputs": [],
   "source": [
    "#point_cloud = o3d.io.read_point_cloud(\"../../ply/raw/flexx2_pointcloud_50GA1_2024-09-12T18_23_11Z.ply\")\n",
    "#o3d.visualization.draw_geometries([point_cloud])"
   ]
  },
  {
   "cell_type": "code",
   "execution_count": null,
   "id": "a96d502b",
   "metadata": {},
   "outputs": [],
   "source": [
    "'''\n",
    "print(f\"Number of points: {len(point_cloud.points)}\")\n",
    "print(f\"Has colors: {point_cloud.has_colors()}\")\n",
    "print(f\"Has normals: {point_cloud.has_normals()}\")\n",
    "\n",
    "\n",
    "o3d.visualization.draw_geometries(\n",
    "    [point_cloud],\n",
    "    window_name=\"Point Cloud Visualization\",\n",
    "    width=800,\n",
    "    height=600,\n",
    "    left=50,\n",
    "    top=50,\n",
    "    point_show_normal=True \n",
    ")\n",
    "'''"
   ]
  },
  {
   "cell_type": "code",
   "execution_count": null,
   "id": "cea03b62",
   "metadata": {},
   "outputs": [],
   "source": [
    "def pointcloud_to_image_cv2(pcd, width=1456, height=1092):\n",
    "    \"\"\"\n",
    "    Convert point cloud file to top-down 2D depth image\n",
    "    \"\"\"\n",
    "    points = np.asarray(pcd.points)\n",
    "    \n",
    "    # Check if point cloud is empty\n",
    "    if len(points) == 0:\n",
    "        return np.zeros((height, width), dtype=np.float32)\n",
    "    \n",
    "    # Get bounds\n",
    "    x_min, x_max = points[:, 0].min(), points[:, 0].max()\n",
    "    y_min, y_max = points[:, 1].min(), points[:, 1].max()\n",
    "    \n",
    "    # Check for degenerate bounds\n",
    "    if x_min == x_max or y_min == y_max:\n",
    "        return np.zeros((height, width), dtype=np.float32)\n",
    "    \n",
    "    # Convert to pixel coordinates\n",
    "    u = ((points[:, 0] - x_min) / (x_max - x_min) * (width - 1)).astype(int)\n",
    "    v = ((points[:, 1] - y_min) / (y_max - y_min) * (height - 1)).astype(int)\n",
    "    \n",
    "    # Always create single-channel depth image\n",
    "    image = np.zeros((height, width), dtype=np.float32)\n",
    "    for i in range(len(u)):\n",
    "        cv2.circle(image, (u[i], v[i]), 1, float(points[i, 2]), -1)\n",
    "    \n",
    "    return image"
   ]
  },
  {
   "cell_type": "code",
   "execution_count": null,
   "id": "325186e7",
   "metadata": {},
   "outputs": [],
   "source": [
    "#point_cloud = o3d.io.read_point_cloud(\"../../ply/raw/flexx2_pointcloud_75GA2_2024-09-20T8_52_12Z.ply\")\n",
    "#o3d.visualization.draw_geometries([point_cloud])\n",
    "#im_75GA2 = pointcloud_to_image_cv2(point_cloud)\n",
    "#cv2.imwrite(\"pointcloud_topdown.png\", im_75GA2)"
   ]
  },
  {
   "cell_type": "code",
   "execution_count": null,
   "id": "d66b791f",
   "metadata": {},
   "outputs": [],
   "source": [
    "point_clouds_dir = \"../../ply/raw/\""
   ]
  },
  {
   "cell_type": "code",
   "execution_count": null,
   "id": "92fce02d",
   "metadata": {},
   "outputs": [],
   "source": [
    "def convert_all_ply(point_cloud_directory):\n",
    "\n",
    "    point_clouds = os.listdir(point_cloud_directory)\n",
    "    depth_png_directory = \"../../Depth_INESC/\"\n",
    "    print(f\"Total number of point clouds {len(point_clouds)}\\n\")\n",
    "    \n",
    "    if not os.path.exists(depth_png_directory):\n",
    "        os.makedirs(depth_png_directory)\n",
    "\n",
    "    for idx, p_cloud in enumerate(point_clouds):\n",
    "        \n",
    "        new_file_name = p_cloud[18:34] + '.png'\n",
    "        save_here = depth_png_directory + new_file_name\n",
    "        \n",
    "        point_cloud = o3d.io.read_point_cloud(point_cloud_directory + p_cloud)\n",
    "        two_d_png = pointcloud_to_image_cv2(point_cloud)\n",
    "        \n",
    "        # Convert depth to millimeters and save as 16-bit (preserve spatial information)\n",
    "        depth_mm = (two_d_png * 1000).astype(np.uint16)\n",
    "        cv2.imwrite(save_here, depth_mm)\n",
    "        \n",
    "        print(f\"Point cloud {idx}/{len(point_clouds)-1} converted\")\n",
    "\n",
    "    print(f\"2D top-down depth visualizations created and saved at {depth_png_directory}.\")"
   ]
  },
  {
   "cell_type": "code",
   "execution_count": null,
   "id": "67f1a6fb",
   "metadata": {},
   "outputs": [],
   "source": [
    "convert_all_ply(point_cloud_directory=point_clouds_dir)"
   ]
  },
  {
   "cell_type": "code",
   "execution_count": null,
   "id": "86ffb48e",
   "metadata": {},
   "outputs": [],
   "source": [
    "depth_png_directory = \"../../Depth_INESC/\"\n",
    "print(f\"Directory exists: {os.path.exists(depth_png_directory)}\")\n",
    "print(f\"Full path: {os.path.abspath(depth_png_directory)}\")"
   ]
  },
  {
   "cell_type": "code",
   "execution_count": null,
   "id": "d7b39b07",
   "metadata": {},
   "outputs": [],
   "source": [
    "#rgb_image = Image.open(\"../../NewRGBImages/images_with_gt/50GA1_2024-09-07.png\")\n",
    "#rgb_width, rgb_height = rgb_image.size\n",
    "#print(f\"Width: {rgb_width} px | Height: {rgb_height} px\")"
   ]
  },
  {
   "cell_type": "code",
   "execution_count": null,
   "id": "8f4f25f8",
   "metadata": {},
   "outputs": [],
   "source": [
    "depth_path = \"../../Depth_INESC/50GA1_2024-09-12.png\"\n",
    "depth = cv2.imread(depth_path, cv2.IMREAD_UNCHANGED)\n",
    "depth_tensor = torch.from_numpy(depth).float()  # (H, W)\n",
    "depth_tensor = depth_tensor.unsqueeze(0)\n",
    "print(type(depth_tensor))\n",
    "print(f\"Max. value: {torch.max(depth_tensor)}| Min. value: {torch.min(depth_tensor)}\")\n"
   ]
  },
  {
   "cell_type": "code",
   "execution_count": null,
   "id": "ec753ad3",
   "metadata": {},
   "outputs": [],
   "source": [
    "depth_tensor.shape"
   ]
  },
  {
   "cell_type": "markdown",
   "id": "0061e72b",
   "metadata": {},
   "source": [
    "### <b> Check distance to camera distribution for depth images </b>"
   ]
  },
  {
   "cell_type": "code",
   "execution_count": null,
   "id": "811ed02f",
   "metadata": {},
   "outputs": [],
   "source": [
    "def depth_values_frequency_histogram(depth_path):\n",
    "\n",
    "    images = [f for f in os.listdir(depth_path)]\n",
    "    print(f\"Images: {images}\")\n",
    "    num_images = len(images)\n",
    "    print(num_images)\n",
    "    height, width = 1092, 1456 # CHECK IF THIS IS CORRECT (or the other way around)\n",
    "    all_values = np.zeros((num_images * height * width,), dtype=np.uint16)\n",
    "\n",
    "    print(f\"Preallocated shape: {all_values.shape}\")\n",
    "\n",
    "    idx = 0 # For smart allocation\n",
    "    for i,img in enumerate(images):\n",
    "        img_path = os.path.join(depth_path, img)\n",
    "\n",
    "        # Read raw depth image with original bit-depth (likely uint16)\n",
    "        depth_raw = cv2.imread(depth_path+'/'+img, cv2.IMREAD_UNCHANGED)\n",
    "\n",
    "        if depth_raw is None:\n",
    "            print(f\"Warning: Failed to load {depth_path+'/'+img}\")\n",
    "            continue\n",
    "\n",
    "        print(f\"({i}/{num_images-1}) Reading {img_path} | dtype: {depth_raw.dtype} | shape: {depth_raw.shape}\")\n",
    "\n",
    "        # Flatten and append raw values\n",
    "        flat = depth_raw.flatten()\n",
    "        all_values[idx:idx + flat.size] = flat\n",
    "        idx += flat.size\n",
    "    \n",
    "    # Plot histogram\n",
    "    plt.hist(all_values, bins=100)\n",
    "    plt.title(\"Raw Depth Value Distribution (All Images)\")\n",
    "    plt.xlabel(\"Depth Value\")\n",
    "    plt.ylabel(\"Count\")\n",
    "    plt.show()"
   ]
  },
  {
   "cell_type": "code",
   "execution_count": null,
   "id": "ba4a1457",
   "metadata": {},
   "outputs": [],
   "source": [
    "depth_values_frequency_histogram(depth_path= \"../../Depth_INESC/\")"
   ]
  },
  {
   "cell_type": "markdown",
   "id": "9f27db33",
   "metadata": {},
   "source": [
    "#### <b> O que preciso:</b>\n",
    "\n",
    "* Sistema de coordenadas: Assegura-me de que a point cloud está no mesmo sistema de coordenadas do que a câmara\n",
    "* Calibração da câmara: Usar os parâmetros de calibração da câmara (comprimento focal x e y, altura a que a câmara estava durante a experiência) -> Para projeções 3D p/ 2D: <b> DATA SHEET: através da dist focal e souber a área super da alface e comparar com lidar 3d obtenho o fator de escala p/ conversão do sist de coordenadas (consigo inferir altura) </b>\n",
    "* Escala de Profundidate/Depth: Qual é a escala em milímetros? <b> METROS </b>\n",
    "* Transformação de sistema de coordenadas LiDAR -> Câmara"
   ]
  },
  {
   "cell_type": "code",
   "execution_count": null,
   "id": "f43cd6a8",
   "metadata": {},
   "outputs": [],
   "source": []
  }
 ],
 "metadata": {
  "kernelspec": {
   "display_name": "machinelearning",
   "language": "python",
   "name": "python3"
  },
  "language_info": {
   "codemirror_mode": {
    "name": "ipython",
    "version": 3
   },
   "file_extension": ".py",
   "mimetype": "text/x-python",
   "name": "python",
   "nbconvert_exporter": "python",
   "pygments_lexer": "ipython3",
   "version": "3.12.9"
  }
 },
 "nbformat": 4,
 "nbformat_minor": 5
}
