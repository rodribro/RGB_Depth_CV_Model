{
 "cells": [
  {
   "cell_type": "code",
   "execution_count": null,
   "id": "7e09552a",
   "metadata": {},
   "outputs": [],
   "source": [
    "import pandas as pd\n",
    "import json\n",
    "import os\n",
    "import datetime\n",
    "import shutil"
   ]
  },
  {
   "cell_type": "markdown",
   "id": "806d1264",
   "metadata": {},
   "source": [
    "* The aim of this notebook is to acquire the images from our dataset that have corresponding ground truths and save them to a new file.\n",
    "* These images will then be used to test the model architecture previously developed"
   ]
  },
  {
   "cell_type": "markdown",
   "id": "5d6a3fff",
   "metadata": {},
   "source": [
    "<b> Saving INESC plants ground truths in a JSON file </b>"
   ]
  },
  {
   "cell_type": "code",
   "execution_count": null,
   "id": "0461f8c3",
   "metadata": {},
   "outputs": [],
   "source": [
    "biometric_df = pd.read_csv(\"biom_mod.csv\", delimiter=';')\n",
    "biometric_df.drop(columns=[\"Thickness 1\", \"Thickness 2\", \"Thickness 3\", \"Thickness 4\", \"Thickness 5\", \"Line\", \"Sample\", \"Number\", \"Perpendicular\", \"No leaves\"], inplace=True)"
   ]
  },
  {
   "cell_type": "code",
   "execution_count": null,
   "id": "dd988bab",
   "metadata": {},
   "outputs": [],
   "source": [
    "biometric_df[\"Date\"] = pd.to_datetime(biometric_df[\"Date\"], dayfirst=True)"
   ]
  },
  {
   "cell_type": "code",
   "execution_count": null,
   "id": "e39de515",
   "metadata": {},
   "outputs": [],
   "source": [
    "datetime.datetime.strptime(\"21/12/2008\", \"%d/%m/%Y\").strftime(\"%Y-%m-%d\")\n",
    "#biometric_df[\"Date\"] = biometric_df[\"Date\"].replace(\"/\", \"-\")"
   ]
  },
  {
   "cell_type": "code",
   "execution_count": null,
   "id": "7e54108f",
   "metadata": {},
   "outputs": [],
   "source": [
    "biometric_df"
   ]
  },
  {
   "cell_type": "code",
   "execution_count": null,
   "id": "89d2f2ef",
   "metadata": {},
   "outputs": [],
   "source": [
    "biometric_df[\"Date\"].dtype"
   ]
  },
  {
   "cell_type": "code",
   "execution_count": null,
   "id": "e10b8330",
   "metadata": {},
   "outputs": [],
   "source": [
    "biometry = {}"
   ]
  },
  {
   "cell_type": "code",
   "execution_count": null,
   "id": "76e3dd93",
   "metadata": {},
   "outputs": [],
   "source": [
    "for index, row in biometric_df.iterrows():\n",
    "    date = str(row[\"Date\"])[:10]\n",
    "    print(date)\n",
    "    image_name=row[\"CODE\"]+\"_\"+date\n",
    "    biometry[image_name] = {\n",
    "        \"Date\": date,\n",
    "        \"Plant\": int(row[\"CODE\"]),\n",
    "        \"Diameter\": int(row[\"Diameter\"]),\n",
    "        \"Height\": int(row[\"Height\"])\n",
    "    }"
   ]
  },
  {
   "cell_type": "code",
   "execution_count": null,
   "id": "95443dbe",
   "metadata": {},
   "outputs": [],
   "source": [
    "# Save the biometry ground truths to a JSON file\n",
    "with open(\"../../GroundTruth_INESC/biometry_inesc_gt.json\", \"w\") as json_file:\n",
    "    json.dump(biometry, json_file, indent=4)"
   ]
  },
  {
   "cell_type": "markdown",
   "id": "7d5d42bb",
   "metadata": {},
   "source": [
    "<b> Rename the image files to coincide with the keys of the ground truths values </b>"
   ]
  },
  {
   "cell_type": "code",
   "execution_count": null,
   "id": "e057f93c",
   "metadata": {},
   "outputs": [],
   "source": [
    "images = os.listdir(\"../../NewRGBImages/raw\")"
   ]
  },
  {
   "cell_type": "code",
   "execution_count": null,
   "id": "00728cda",
   "metadata": {},
   "outputs": [],
   "source": [
    "import re\n",
    "def format_date_string(s):\n",
    "    # Remove trailing letter if present\n",
    "    cleaned = re.sub(r'[A-Za-z]$', '', s)\n",
    "    \n",
    "    # Split on dashes and pad the last part (day) if needed\n",
    "    parts = cleaned.split('-')\n",
    "    if len(parts) >= 3:\n",
    "        parts[-1] = parts[-1].zfill(2)\n",
    "        return '-'.join(parts)\n",
    "    return cleaned"
   ]
  },
  {
   "cell_type": "code",
   "execution_count": null,
   "id": "f0f8e83b",
   "metadata": {},
   "outputs": [],
   "source": [
    "for file_name in images:\n",
    "    old_file = file_name\n",
    "    new_file_name= old_file[8:25]\n",
    "    new_file_name = format_date_string(new_file_name)\n",
    "    new_file_name = new_file_name+\".png\"\n",
    "    print(new_file_name)\n",
    "    old_file = os.path.join(\"../../NewRGBImages/raw\", old_file)\n",
    "    new_file = os.path.join(\"../../NewRGBImages/formated_name\", new_file_name)\n",
    "    os.rename(old_file, new_file)"
   ]
  },
  {
   "cell_type": "markdown",
   "id": "b08ce34f",
   "metadata": {},
   "source": [
    "<b> Check INESC image files that have a corresponding Ground Truth </b>"
   ]
  },
  {
   "cell_type": "code",
   "execution_count": null,
   "id": "d3301b86",
   "metadata": {},
   "outputs": [],
   "source": [
    "inesc_images = os.listdir(\"../../NewRGBImages/formated_name\")"
   ]
  },
  {
   "cell_type": "code",
   "execution_count": null,
   "id": "7df8da8a",
   "metadata": {},
   "outputs": [],
   "source": [
    "with open('../../GroundTruth_INESC/biometry_inesc_gt.json', 'r') as file:\n",
    "    ground_truths_inesc = json.load(file)"
   ]
  },
  {
   "cell_type": "code",
   "execution_count": null,
   "id": "e06d522e",
   "metadata": {},
   "outputs": [],
   "source": [
    "# Images with a corresponding ground truth\n",
    "# Move files to new directory\n",
    "og_dir = \"../../NewRGBImages/formated_name/\"\n",
    "new_dir = \"../../NewRGBImages/images_with_gt/\"\n",
    "counter = 0\n",
    "images_with_ground_t = []\n",
    "for img in inesc_images:\n",
    "    image_name = img[:17]\n",
    "    if image_name in ground_truths_inesc:\n",
    "        print(f\"{img} has a corresponding Ground Truth\\n\")\n",
    "        images_with_ground_t.append(img)\n",
    "        shutil.move(og_dir+img, new_dir)\n",
    "        counter+=1\n",
    "        print(\"--------------------\")\n",
    "    else:\n",
    "        print(f\"No correspondence for {img}\\n\")\n",
    "        print(\"--------------------\")\n",
    "\n",
    "        continue\n",
    "        \n",
    "print(counter)"
   ]
  },
  {
   "cell_type": "code",
   "execution_count": null,
   "id": "30135c9c",
   "metadata": {},
   "outputs": [],
   "source": [
    "images_with_ground_t"
   ]
  },
  {
   "cell_type": "code",
   "execution_count": null,
   "id": "02464041",
   "metadata": {},
   "outputs": [],
   "source": [
    "images_with_gt = os.listdir(\"../../NewRGBImages/images_with_gt\")"
   ]
  },
  {
   "cell_type": "code",
   "execution_count": null,
   "id": "5630e1c8",
   "metadata": {},
   "outputs": [],
   "source": [
    "len(images_with_ground_t)"
   ]
  },
  {
   "cell_type": "code",
   "execution_count": null,
   "id": "fa58843f",
   "metadata": {},
   "outputs": [],
   "source": []
  }
 ],
 "metadata": {
  "kernelspec": {
   "display_name": "machinelearning",
   "language": "python",
   "name": "python3"
  },
  "language_info": {
   "codemirror_mode": {
    "name": "ipython",
    "version": 3
   },
   "file_extension": ".py",
   "mimetype": "text/x-python",
   "name": "python",
   "nbconvert_exporter": "python",
   "pygments_lexer": "ipython3",
   "version": "3.12.9"
  }
 },
 "nbformat": 4,
 "nbformat_minor": 5
}
